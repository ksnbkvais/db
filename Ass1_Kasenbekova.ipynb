{
 "cells": [
  {
   "cell_type": "code",
   "execution_count": 1,
   "id": "aa6c7ddd-f759-4a63-a8dd-462355bf3f1e",
   "metadata": {},
   "outputs": [],
   "source": [
    "import numpy as np"
   ]
  },
  {
   "cell_type": "code",
   "execution_count": 3,
   "id": "e391c0e7-57e3-41e6-a872-9d093a36bd6b",
   "metadata": {},
   "outputs": [
    {
     "data": {
      "text/plain": [
       "array([[19, 22],\n",
       "       [43, 50]])"
      ]
     },
     "execution_count": 3,
     "metadata": {},
     "output_type": "execute_result"
    }
   ],
   "source": [
    "A = np.array([[1, 2], [3, 4]])\n",
    "B = np.array([[5, 6], [7, 8]])\n",
    "np.dot(A, B)  "
   ]
  },
  {
   "cell_type": "code",
   "execution_count": 5,
   "id": "189ade53-15ee-47f4-ac58-7aaa9244dcf3",
   "metadata": {},
   "outputs": [
    {
     "data": {
      "text/plain": [
       "array([[5, 7],\n",
       "       [6, 8]])"
      ]
     },
     "execution_count": 5,
     "metadata": {},
     "output_type": "execute_result"
    }
   ],
   "source": [
    "np.transpose(B)"
   ]
  },
  {
   "cell_type": "code",
   "execution_count": 7,
   "id": "ac2f4e3a-de2c-452b-bfc9-0681b304796f",
   "metadata": {},
   "outputs": [
    {
     "name": "stdout",
     "output_type": "stream",
     "text": [
      "-2.0000000000000004\n"
     ]
    }
   ],
   "source": [
    "result = np.linalg.det(A)\n",
    "print(result)"
   ]
  },
  {
   "cell_type": "code",
   "execution_count": 9,
   "id": "a74a04a3-e414-4afd-808a-74019ec236fd",
   "metadata": {},
   "outputs": [
    {
     "name": "stdout",
     "output_type": "stream",
     "text": [
      "[1 2 3 4 5 6]\n"
     ]
    }
   ],
   "source": [
    "arr1 = np.array([1, 2, 3])\n",
    "arr2 = np.array([4, 5, 6])\n",
    "concatenated = np.concatenate((arr1, arr2))\n",
    "print(concatenated)"
   ]
  },
  {
   "cell_type": "code",
   "execution_count": 11,
   "id": "81529eb6-d45d-4da7-b759-aca4d7f04b6f",
   "metadata": {},
   "outputs": [
    {
     "name": "stdout",
     "output_type": "stream",
     "text": [
      "[[1 2 3]\n",
      " [4 5 6]]\n"
     ]
    }
   ],
   "source": [
    "arr_vstack = np.vstack((arr1, arr2))\n",
    "print(arr_vstack)"
   ]
  },
  {
   "cell_type": "code",
   "execution_count": 13,
   "id": "066514bb-64e7-4840-ad78-802a2cdcf47f",
   "metadata": {},
   "outputs": [
    {
     "name": "stdout",
     "output_type": "stream",
     "text": [
      "[5 7 9]\n"
     ]
    }
   ],
   "source": [
    "arr_add=arr1+arr2\n",
    "print(arr_add)"
   ]
  },
  {
   "cell_type": "code",
   "execution_count": 15,
   "id": "7be8715c-d43d-4db3-8b73-d88d096fc4ab",
   "metadata": {},
   "outputs": [
    {
     "name": "stdout",
     "output_type": "stream",
     "text": [
      "[ 4 10 18]\n"
     ]
    }
   ],
   "source": [
    "arr_multiply=arr1*arr2\n",
    "print(arr_multiply)"
   ]
  },
  {
   "cell_type": "code",
   "execution_count": 17,
   "id": "18be8474-5562-4dae-889c-45674bf6b662",
   "metadata": {},
   "outputs": [
    {
     "name": "stdout",
     "output_type": "stream",
     "text": [
      "[[0. 0. 0.]\n",
      " [0. 0. 0.]\n",
      " [0. 0. 0.]]\n"
     ]
    }
   ],
   "source": [
    "zeros=np.zeros((3,3))\n",
    "print(zeros)"
   ]
  },
  {
   "cell_type": "code",
   "execution_count": 19,
   "id": "9eb6dc7c-364c-4077-a3f9-6d7446a8500a",
   "metadata": {},
   "outputs": [
    {
     "name": "stdout",
     "output_type": "stream",
     "text": [
      "[[0.95177717 0.8946821  0.74457462]\n",
      " [0.22876861 0.13788324 0.11439946]\n",
      " [0.1029942  0.33140229 0.69435231]]\n"
     ]
    }
   ],
   "source": [
    "random_array = np.random.rand(3, 3)\n",
    "print(random_array)"
   ]
  },
  {
   "cell_type": "code",
   "execution_count": 21,
   "id": "af18b1b7-b74b-496c-a0a0-08af3e939175",
   "metadata": {},
   "outputs": [
    {
     "name": "stdout",
     "output_type": "stream",
     "text": [
      "[[-1.88603841e+00  1.22133719e+01  1.02156192e-02]\n",
      " [ 4.79647921e+00 -1.90530977e+01 -2.00427454e+00]\n",
      " [-2.00951757e+00  7.28208671e+00  2.39528117e+00]]\n"
     ]
    }
   ],
   "source": [
    "inverse=np.linalg.inv(random_array)\n",
    "print(inverse)"
   ]
  },
  {
   "cell_type": "code",
   "execution_count": 23,
   "id": "43037f32-69ae-4f59-ad6f-00303428b042",
   "metadata": {},
   "outputs": [
    {
     "name": "stdout",
     "output_type": "stream",
     "text": [
      "25\n"
     ]
    }
   ],
   "source": [
    "def square (x):\n",
    "    return x**2\n",
    "\n",
    "res = square(5)\n",
    "print(res)"
   ]
  },
  {
   "cell_type": "code",
   "execution_count": 25,
   "id": "de0efcc6-5184-420a-b3ab-4551296ea72f",
   "metadata": {},
   "outputs": [
    {
     "name": "stdout",
     "output_type": "stream",
     "text": [
      "9.999999999621423\n"
     ]
    }
   ],
   "source": [
    "def numerical_derivative(f, x, h=1e-5):\n",
    "    return (f(x + h) - f(x - h)) / (2 * h)\n",
    "\n",
    "res = numerical_derivative(square, 5)\n",
    "print(res)"
   ]
  },
  {
   "cell_type": "code",
   "execution_count": 27,
   "id": "543cd20a-bff1-4dcd-8660-fe78bf9f0c74",
   "metadata": {},
   "outputs": [
    {
     "name": "stdout",
     "output_type": "stream",
     "text": [
      "Sinus is 0.8660254037844386\n",
      "Cosinus is 0.5000000000000001\n"
     ]
    }
   ],
   "source": [
    "angle_deg = 60\n",
    "angle_rad = np.deg2rad(angle_deg)\n",
    "\n",
    "sin_val = np.sin(angle_rad)\n",
    "cos_val = np.cos(angle_rad)\n",
    "\n",
    "print(f\"Sinus is {sin_val}\")\n",
    "print(f\"Cosinus is {cos_val}\")"
   ]
  },
  {
   "cell_type": "code",
   "execution_count": 34,
   "id": "5d5d7d63-4ea1-477c-b317-2ccc21c1dac9",
   "metadata": {},
   "outputs": [
    {
     "name": "stdout",
     "output_type": "stream",
     "text": [
      "[-0.99989797 -0.98969493 -0.96928885 -0.94888277 -0.92847669 -0.90807061\n",
      " -0.88766452 -0.86725844 -0.84685236 -0.82644628 -0.8060402  -0.78563412\n",
      " -0.76522804 -0.74482196 -0.72441588 -0.70400979 -0.68360371 -0.66319763\n",
      " -0.64279155 -0.62238547 -0.60197939 -0.58157331 -0.56116723 -0.54076115\n",
      " -0.52035507 -0.49994898 -0.4795429  -0.45913682 -0.43873074 -0.41832466\n",
      " -0.39791858 -0.3775125  -0.35710642 -0.33670034 -0.31629426 -0.29588817\n",
      " -0.27548209 -0.25507601 -0.23466993 -0.21426385 -0.19385777 -0.17345169\n",
      " -0.15304561 -0.13263953 -0.11223345 -0.09182736 -0.07142128 -0.0510152\n",
      " -0.03060912 -0.01020304  0.01020304  0.03060912  0.0510152   0.07142128\n",
      "  0.09182736  0.11223345  0.13263953  0.15304561  0.17345169  0.19385777\n",
      "  0.21426385  0.23466993  0.25507601  0.27548209  0.29588817  0.31629426\n",
      "  0.33670034  0.35710642  0.3775125   0.39791858  0.41832466  0.43873074\n",
      "  0.45913682  0.4795429   0.49994898  0.52035507  0.54076115  0.56116723\n",
      "  0.58157331  0.60197939  0.62238547  0.64279155  0.66319763  0.68360371\n",
      "  0.70400979  0.72441588  0.74482196  0.76522804  0.78563412  0.8060402\n",
      "  0.82644628  0.84685236  0.86725844  0.88766452  0.90807061  0.92847669\n",
      "  0.94888277  0.96928885  0.98969493  0.99989797]\n"
     ]
    }
   ],
   "source": [
    "def f(x):\n",
    "    return x**2\n",
    "x = np.linspace(-5, 5, 100)\n",
    "gradient = np.gradient(f(x))\n",
    "print(gradient)"
   ]
  },
  {
   "cell_type": "code",
   "execution_count": 36,
   "id": "f03f7b6f-3fb8-4777-b498-6fd4978d4b85",
   "metadata": {},
   "outputs": [
    {
     "data": {
      "text/plain": [
       "-0.05249542852318199"
      ]
     },
     "execution_count": 36,
     "metadata": {},
     "output_type": "execute_result"
    }
   ],
   "source": [
    "data = np.random.randn(1000)\n",
    "np.mean(data)"
   ]
  },
  {
   "cell_type": "code",
   "execution_count": null,
   "id": "1e9a5a09-5f56-447c-bd52-4206e8381da1",
   "metadata": {},
   "outputs": [],
   "source": []
  }
 ],
 "metadata": {
  "kernelspec": {
   "display_name": "Python 3 (ipykernel)",
   "language": "python",
   "name": "python3"
  },
  "language_info": {
   "codemirror_mode": {
    "name": "ipython",
    "version": 3
   },
   "file_extension": ".py",
   "mimetype": "text/x-python",
   "name": "python",
   "nbconvert_exporter": "python",
   "pygments_lexer": "ipython3",
   "version": "3.12.4"
  }
 },
 "nbformat": 4,
 "nbformat_minor": 5
}
