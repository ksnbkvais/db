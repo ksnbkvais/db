{
 "cells": [
  {
   "cell_type": "code",
   "execution_count": 1,
   "id": "278e4344-4d10-4fcf-9e6a-f207937f455b",
   "metadata": {},
   "outputs": [],
   "source": [
    "import numpy as np\n",
    "import pandas as pd"
   ]
  },
  {
   "cell_type": "code",
   "execution_count": 2,
   "id": "5079a431-178f-4937-8d5e-993c25475fd2",
   "metadata": {},
   "outputs": [
    {
     "data": {
      "text/html": [
       "<div>\n",
       "<style scoped>\n",
       "    .dataframe tbody tr th:only-of-type {\n",
       "        vertical-align: middle;\n",
       "    }\n",
       "\n",
       "    .dataframe tbody tr th {\n",
       "        vertical-align: top;\n",
       "    }\n",
       "\n",
       "    .dataframe thead th {\n",
       "        text-align: right;\n",
       "    }\n",
       "</style>\n",
       "<table border=\"1\" class=\"dataframe\">\n",
       "  <thead>\n",
       "    <tr style=\"text-align: right;\">\n",
       "      <th></th>\n",
       "      <th>salary</th>\n",
       "      <th>experience</th>\n",
       "      <th>gender</th>\n",
       "      <th>married</th>\n",
       "      <th>age</th>\n",
       "    </tr>\n",
       "  </thead>\n",
       "  <tbody>\n",
       "    <tr>\n",
       "      <th>0</th>\n",
       "      <td>43003</td>\n",
       "      <td>&gt;5</td>\n",
       "      <td>male</td>\n",
       "      <td>yes</td>\n",
       "      <td>29</td>\n",
       "    </tr>\n",
       "    <tr>\n",
       "      <th>1</th>\n",
       "      <td>22172</td>\n",
       "      <td>3-5</td>\n",
       "      <td>female</td>\n",
       "      <td>yes</td>\n",
       "      <td>28</td>\n",
       "    </tr>\n",
       "    <tr>\n",
       "      <th>2</th>\n",
       "      <td>15192</td>\n",
       "      <td>3-5</td>\n",
       "      <td>female</td>\n",
       "      <td>yes</td>\n",
       "      <td>28</td>\n",
       "    </tr>\n",
       "    <tr>\n",
       "      <th>3</th>\n",
       "      <td>42511</td>\n",
       "      <td>&gt;5</td>\n",
       "      <td>male</td>\n",
       "      <td>no</td>\n",
       "      <td>24</td>\n",
       "    </tr>\n",
       "    <tr>\n",
       "      <th>4</th>\n",
       "      <td>17813</td>\n",
       "      <td>3-5</td>\n",
       "      <td>male</td>\n",
       "      <td>yes</td>\n",
       "      <td>27</td>\n",
       "    </tr>\n",
       "  </tbody>\n",
       "</table>\n",
       "</div>"
      ],
      "text/plain": [
       "   salary experience  gender married  age\n",
       "0   43003         >5    male     yes   29\n",
       "1   22172        3-5  female     yes   28\n",
       "2   15192        3-5  female     yes   28\n",
       "3   42511         >5    male      no   24\n",
       "4   17813        3-5    male     yes   27"
      ]
     },
     "execution_count": 2,
     "metadata": {},
     "output_type": "execute_result"
    }
   ],
   "source": [
    "data=pd.read_csv('salaries.csv')\n",
    "pd_data=data.copy()\n",
    "data.head()"
   ]
  },
  {
   "cell_type": "code",
   "execution_count": 5,
   "id": "d900dba5-3571-43e1-9ba2-91c01e338d4e",
   "metadata": {},
   "outputs": [
    {
     "name": "stdout",
     "output_type": "stream",
     "text": [
      "<class 'pandas.core.frame.DataFrame'>\n",
      "RangeIndex: 500 entries, 0 to 499\n",
      "Data columns (total 5 columns):\n",
      " #   Column      Non-Null Count  Dtype \n",
      "---  ------      --------------  ----- \n",
      " 0   salary      500 non-null    int64 \n",
      " 1   experience  500 non-null    object\n",
      " 2   gender      500 non-null    object\n",
      " 3   married     500 non-null    object\n",
      " 4   age         500 non-null    int64 \n",
      "dtypes: int64(2), object(3)\n",
      "memory usage: 19.7+ KB\n",
      "None\n"
     ]
    }
   ],
   "source": [
    "print(data.info())"
   ]
  },
  {
   "cell_type": "code",
   "execution_count": 7,
   "id": "049607cb-49a1-476d-ae6b-3c4b603a5163",
   "metadata": {},
   "outputs": [
    {
     "name": "stdout",
     "output_type": "stream",
     "text": [
      "salary        0\n",
      "experience    0\n",
      "gender        0\n",
      "married       0\n",
      "age           0\n",
      "dtype: int64\n"
     ]
    }
   ],
   "source": [
    "print(data.isnull().sum())"
   ]
  },
  {
   "cell_type": "code",
   "execution_count": 9,
   "id": "b69a871d-1b47-427a-ad7e-9e607965ae46",
   "metadata": {},
   "outputs": [
    {
     "name": "stdout",
     "output_type": "stream",
     "text": [
      "<bound method NDFrame.describe of      salary experience  gender married  age\n",
      "0     43003         >5    male     yes   29\n",
      "1     22172        3-5  female     yes   28\n",
      "2     15192        3-5  female     yes   28\n",
      "3     42511         >5    male      no   24\n",
      "4     17813        3-5    male     yes   27\n",
      "..      ...        ...     ...     ...  ...\n",
      "495   46383         >5  female     yes   29\n",
      "496   27875        3-5  female      no   26\n",
      "497   34953         >5    male      no   22\n",
      "498   20987        3-5  female      no   26\n",
      "499   39619         >5  female      no   23\n",
      "\n",
      "[500 rows x 5 columns]>\n"
     ]
    }
   ],
   "source": [
    "print(data.describe)"
   ]
  },
  {
   "cell_type": "code",
   "execution_count": 11,
   "id": "9744f97a-d5fb-4714-a4ae-a34822f0e5f5",
   "metadata": {},
   "outputs": [
    {
     "name": "stdout",
     "output_type": "stream",
     "text": [
      "['>5' '3-5' '0-2']\n"
     ]
    }
   ],
   "source": [
    "print(data['experience'].unique())"
   ]
  },
  {
   "cell_type": "code",
   "execution_count": 13,
   "id": "da24afb6-01d1-404f-b3cb-7da7f179cd9c",
   "metadata": {},
   "outputs": [
    {
     "name": "stdout",
     "output_type": "stream",
     "text": [
      "experience\n",
      ">5     246\n",
      "3-5    187\n",
      "0-2     67\n",
      "Name: count, dtype: int64\n"
     ]
    }
   ],
   "source": [
    "print(data['experience'].value_counts())"
   ]
  },
  {
   "cell_type": "code",
   "execution_count": 15,
   "id": "06f985a5-80af-42b1-acb9-2718e273dbfa",
   "metadata": {},
   "outputs": [
    {
     "name": "stdout",
     "output_type": "stream",
     "text": [
      "Average age:  26\n",
      "Standard deviation:  2\n",
      "Median age:  26\n"
     ]
    }
   ],
   "source": [
    "print(\"Average age: \", round(data['age'].mean()))\n",
    "print(\"Standard deviation: \", round(data['age'].std()))\n",
    "print(\"Median age: \", round(data['age'].median()))"
   ]
  },
  {
   "cell_type": "code",
   "execution_count": 17,
   "id": "210c872c-038a-43b8-954c-1d4d4c8262c3",
   "metadata": {},
   "outputs": [
    {
     "data": {
      "text/html": [
       "<div>\n",
       "<style scoped>\n",
       "    .dataframe tbody tr th:only-of-type {\n",
       "        vertical-align: middle;\n",
       "    }\n",
       "\n",
       "    .dataframe tbody tr th {\n",
       "        vertical-align: top;\n",
       "    }\n",
       "\n",
       "    .dataframe thead th {\n",
       "        text-align: right;\n",
       "    }\n",
       "</style>\n",
       "<table border=\"1\" class=\"dataframe\">\n",
       "  <thead>\n",
       "    <tr style=\"text-align: right;\">\n",
       "      <th></th>\n",
       "      <th>salary</th>\n",
       "      <th>experience</th>\n",
       "      <th>gender</th>\n",
       "      <th>married</th>\n",
       "      <th>age</th>\n",
       "      <th>above_average</th>\n",
       "    </tr>\n",
       "  </thead>\n",
       "  <tbody>\n",
       "    <tr>\n",
       "      <th>0</th>\n",
       "      <td>43003</td>\n",
       "      <td>&gt;5</td>\n",
       "      <td>male</td>\n",
       "      <td>yes</td>\n",
       "      <td>29</td>\n",
       "      <td>True</td>\n",
       "    </tr>\n",
       "    <tr>\n",
       "      <th>1</th>\n",
       "      <td>22172</td>\n",
       "      <td>3-5</td>\n",
       "      <td>female</td>\n",
       "      <td>yes</td>\n",
       "      <td>28</td>\n",
       "      <td>False</td>\n",
       "    </tr>\n",
       "    <tr>\n",
       "      <th>2</th>\n",
       "      <td>15192</td>\n",
       "      <td>3-5</td>\n",
       "      <td>female</td>\n",
       "      <td>yes</td>\n",
       "      <td>28</td>\n",
       "      <td>False</td>\n",
       "    </tr>\n",
       "    <tr>\n",
       "      <th>3</th>\n",
       "      <td>42511</td>\n",
       "      <td>&gt;5</td>\n",
       "      <td>male</td>\n",
       "      <td>no</td>\n",
       "      <td>24</td>\n",
       "      <td>True</td>\n",
       "    </tr>\n",
       "    <tr>\n",
       "      <th>4</th>\n",
       "      <td>17813</td>\n",
       "      <td>3-5</td>\n",
       "      <td>male</td>\n",
       "      <td>yes</td>\n",
       "      <td>27</td>\n",
       "      <td>False</td>\n",
       "    </tr>\n",
       "  </tbody>\n",
       "</table>\n",
       "</div>"
      ],
      "text/plain": [
       "   salary experience  gender married  age  above_average\n",
       "0   43003         >5    male     yes   29           True\n",
       "1   22172        3-5  female     yes   28          False\n",
       "2   15192        3-5  female     yes   28          False\n",
       "3   42511         >5    male      no   24           True\n",
       "4   17813        3-5    male     yes   27          False"
      ]
     },
     "execution_count": 17,
     "metadata": {},
     "output_type": "execute_result"
    }
   ],
   "source": [
    "average_salary=pd_data[\"salary\"].median()\n",
    "pd_data[\"above_average\"]=pd_data[\"salary\"]>=average_salary\n",
    "pd_data.head()"
   ]
  },
  {
   "cell_type": "code",
   "execution_count": 19,
   "id": "b833a9f0-e291-44a2-954f-453206c50edc",
   "metadata": {},
   "outputs": [
    {
     "name": "stdout",
     "output_type": "stream",
     "text": [
      "experience\n",
      ">5     39973.548780\n",
      "3-5    22698.272727\n",
      "0-2    12543.925373\n",
      "Name: salary, dtype: float64\n"
     ]
    }
   ],
   "source": [
    "top_jobs = data.groupby('experience')['salary'].mean().sort_values(ascending=False)\n",
    "print(top_jobs)"
   ]
  },
  {
   "cell_type": "code",
   "execution_count": 21,
   "id": "e237976e-d097-4796-a268-5b2666810bf5",
   "metadata": {},
   "outputs": [
    {
     "data": {
      "text/html": [
       "<div>\n",
       "<style scoped>\n",
       "    .dataframe tbody tr th:only-of-type {\n",
       "        vertical-align: middle;\n",
       "    }\n",
       "\n",
       "    .dataframe tbody tr th {\n",
       "        vertical-align: top;\n",
       "    }\n",
       "\n",
       "    .dataframe thead th {\n",
       "        text-align: right;\n",
       "    }\n",
       "</style>\n",
       "<table border=\"1\" class=\"dataframe\">\n",
       "  <thead>\n",
       "    <tr style=\"text-align: right;\">\n",
       "      <th></th>\n",
       "      <th>salary</th>\n",
       "      <th>experience</th>\n",
       "      <th>gender</th>\n",
       "      <th>married</th>\n",
       "      <th>age</th>\n",
       "      <th>above_average</th>\n",
       "    </tr>\n",
       "  </thead>\n",
       "  <tbody>\n",
       "    <tr>\n",
       "      <th>0</th>\n",
       "      <td>43003</td>\n",
       "      <td>senior</td>\n",
       "      <td>male</td>\n",
       "      <td>yes</td>\n",
       "      <td>29</td>\n",
       "      <td>True</td>\n",
       "    </tr>\n",
       "    <tr>\n",
       "      <th>1</th>\n",
       "      <td>22172</td>\n",
       "      <td>mid</td>\n",
       "      <td>female</td>\n",
       "      <td>yes</td>\n",
       "      <td>28</td>\n",
       "      <td>False</td>\n",
       "    </tr>\n",
       "    <tr>\n",
       "      <th>2</th>\n",
       "      <td>15192</td>\n",
       "      <td>mid</td>\n",
       "      <td>female</td>\n",
       "      <td>yes</td>\n",
       "      <td>28</td>\n",
       "      <td>False</td>\n",
       "    </tr>\n",
       "    <tr>\n",
       "      <th>3</th>\n",
       "      <td>42511</td>\n",
       "      <td>senior</td>\n",
       "      <td>male</td>\n",
       "      <td>no</td>\n",
       "      <td>24</td>\n",
       "      <td>True</td>\n",
       "    </tr>\n",
       "    <tr>\n",
       "      <th>4</th>\n",
       "      <td>17813</td>\n",
       "      <td>mid</td>\n",
       "      <td>male</td>\n",
       "      <td>yes</td>\n",
       "      <td>27</td>\n",
       "      <td>False</td>\n",
       "    </tr>\n",
       "  </tbody>\n",
       "</table>\n",
       "</div>"
      ],
      "text/plain": [
       "   salary experience  gender married  age  above_average\n",
       "0   43003     senior    male     yes   29           True\n",
       "1   22172        mid  female     yes   28          False\n",
       "2   15192        mid  female     yes   28          False\n",
       "3   42511     senior    male      no   24           True\n",
       "4   17813        mid    male     yes   27          False"
      ]
     },
     "execution_count": 21,
     "metadata": {},
     "output_type": "execute_result"
    }
   ],
   "source": [
    "exp = {\n",
    "    '0-2': 'fresh',\n",
    "    '3-5': 'mid',\n",
    "    '>5': 'senior'\n",
    "}\n",
    "pd_data['experience'] = pd_data['experience'].replace(exp)\n",
    "pd_data.head()"
   ]
  },
  {
   "cell_type": "code",
   "execution_count": 23,
   "id": "e9a84fe7-8103-4c6f-8af0-233f3b270579",
   "metadata": {},
   "outputs": [
    {
     "name": "stdout",
     "output_type": "stream",
     "text": [
      "Fresh level minimum salary: 10015\n",
      "Fresh level maximum salary: 14979\n",
      "Fresh level average salary: 12544\n",
      "====\n",
      "Middle level minimum salary: 15138\n",
      "Middle level maximum salary: 29946\n",
      "Middle level average salary: 22698\n",
      "====\n",
      "Senior level minimum salary: 30118\n",
      "Senior level maximum salary: 49964\n",
      "Senior level average salary: 39974\n",
      "====\n"
     ]
    }
   ],
   "source": [
    "fresh_min_salary=pd_data[pd_data[\"experience\"]==\"fresh\"][\"salary\"].min()\n",
    "fresh_max_salary=pd_data[pd_data[\"experience\"]==\"fresh\"][\"salary\"].max()\n",
    "fresh_ave_salary=pd_data[pd_data[\"experience\"]==\"fresh\"][\"salary\"].mean()\n",
    "\n",
    "print(f\"Fresh level minimum salary: {fresh_min_salary}\")\n",
    "print(f\"Fresh level maximum salary: {fresh_max_salary}\")\n",
    "print(f\"Fresh level average salary: {fresh_ave_salary:.0f}\",end=\"\\n====\\n\")\n",
    "\n",
    "mid_min_salary=pd_data[pd_data[\"experience\"]==\"mid\"][\"salary\"].min()\n",
    "mid_max_salary=pd_data[pd_data[\"experience\"]==\"mid\"][\"salary\"].max()\n",
    "mid_ave_salary=pd_data[pd_data[\"experience\"]==\"mid\"][\"salary\"].mean()\n",
    "\n",
    "print(f\"Middle level minimum salary: {mid_min_salary}\")\n",
    "print(f\"Middle level maximum salary: {mid_max_salary}\")\n",
    "print(f\"Middle level average salary: {mid_ave_salary:.0f}\",end=\"\\n====\\n\")\n",
    "\n",
    "senior_min_salary=pd_data[pd_data[\"experience\"]==\"senior\"][\"salary\"].min()\n",
    "senior_max_salary=pd_data[pd_data[\"experience\"]==\"senior\"][\"salary\"].max()\n",
    "senior_ave_salary=pd_data[pd_data[\"experience\"]==\"senior\"][\"salary\"].mean()\n",
    "\n",
    "print(f\"Senior level minimum salary: {senior_min_salary}\")\n",
    "print(f\"Senior level maximum salary: {senior_max_salary}\")\n",
    "print(f\"Senior level average salary: {senior_ave_salary:.0f}\",end=\"\\n====\\n\")"
   ]
  },
  {
   "cell_type": "code",
   "execution_count": null,
   "id": "a773f47d-451b-4080-b431-98d40d0811f6",
   "metadata": {},
   "outputs": [],
   "source": []
  },
  {
   "cell_type": "code",
   "execution_count": null,
   "id": "6f67a995-effd-4317-b201-53c2b8af5579",
   "metadata": {},
   "outputs": [],
   "source": []
  }
 ],
 "metadata": {
  "kernelspec": {
   "display_name": "Python 3 (ipykernel)",
   "language": "python",
   "name": "python3"
  },
  "language_info": {
   "codemirror_mode": {
    "name": "ipython",
    "version": 3
   },
   "file_extension": ".py",
   "mimetype": "text/x-python",
   "name": "python",
   "nbconvert_exporter": "python",
   "pygments_lexer": "ipython3",
   "version": "3.12.4"
  }
 },
 "nbformat": 4,
 "nbformat_minor": 5
}
