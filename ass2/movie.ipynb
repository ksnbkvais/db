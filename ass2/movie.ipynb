import pandas as pd

def movie_rating(movies: pd.DataFrame, users: pd.DataFrame, movie_rating: pd.DataFrame) -> pd.DataFrame:
    user_rating_count = movie_rating.groupby('user_id').size().reset_index(name='rating_count')
    user_with_most_ratings = user_rating_count.merge(users, on='user_id')
    user_with_most_ratings = user_with_most_ratings.sort_values(['rating_count', 'name'], ascending=[False, True]).head(1)

    feb_ratings = movie_rating[(movie_rating['created_at'].dt.month == 2) & (movie_rating['created_at'].dt.year == 2020)]

    avg_ratings_feb = feb_ratings.groupby('movie_id')['rating'].mean().reset_index(name='avg_rating')
    movie_with_highest_avg = avg_ratings_feb.merge(movies, on='movie_id')
    movie_with_highest_avg = movie_with_highest_avg.sort_values(['avg_rating', 'title'], ascending=[False, True]).head(1)

    user_name = user_with_most_ratings['name'].values[0]
    movie_name = movie_with_highest_avg['title'].values[0]

    result_df = pd.DataFrame({'results': [user_name, movie_name]})
    
    return result_df
