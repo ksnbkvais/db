import pandas as pd

def capital_gainloss(stocks: pd.DataFrame) -> pd.DataFrame:
    capital_gains = {}
    stock_stack = {}

    for index, row in stocks.iterrows():
        stock_name = row['stock_name']
        operation = row['operation']
        price = row['price']
        
        if operation == 'Buy':
            if stock_name not in stock_stack:
                stock_stack[stock_name] = []
            stock_stack[stock_name].append(price)
        elif operation == 'Sell':
            if stock_name in stock_stack and stock_stack[stock_name]:
                buy_price = stock_stack[stock_name].pop()
                gain_loss = price - buy_price

                if stock_name in capital_gains:
                    capital_gains[stock_name] += gain_loss
                else:
                    capital_gains[stock_name] = gain_loss

    result_df = pd.DataFrame(capital_gains.items(), columns=['stock_name', 'capital_gain_loss'])
    
    return result_df
