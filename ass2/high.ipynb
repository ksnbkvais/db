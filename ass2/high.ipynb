import pandas as pd

def second_highest_salary(employee: pd.DataFrame) -> pd.DataFrame:
    distinct_salaries = employee['salary'].drop_duplicates().sort_values(ascending=False)

    if len(distinct_salaries) < 2:
        second_highest = None
    else:
        second_highest = distinct_salaries.iloc[1] 
    result_df = pd.DataFrame({'SecondHighestSalary': [second_highest]})

    return result_df
